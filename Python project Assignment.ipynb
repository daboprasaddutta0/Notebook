{
    "cells": [
        {
            "metadata": {
                "collapsed": true
            },
            "cell_type": "markdown",
            "source": "# My Jupyter Notebook on IBM Watson Studio"
        },
        {
            "metadata": {},
            "cell_type": "markdown",
            "source": "**Debo Prosad Dutta**\n\nCurrently I am working on SAP BI/BW Technology"
        },
        {
            "metadata": {},
            "cell_type": "markdown",
            "source": "_I am interested in data science because I like to deal with data and find some meaningful insight from that._"
        },
        {
            "metadata": {},
            "cell_type": "markdown",
            "source": "### Checking which numbers are even or odd between 1 to 10"
        },
        {
            "metadata": {
                "scrolled": false
            },
            "cell_type": "code",
            "source": "for num in range(1,11):\n    if((num % 2) == 0):\n        print(num,\" is even number\")\n    else:\n        print(num, \" is odd number\")",
            "execution_count": 7,
            "outputs": [
                {
                    "output_type": "stream",
                    "text": "1  is odd number\n2  is even number\n3  is odd number\n4  is even number\n5  is odd number\n6  is even number\n7  is odd number\n8  is even number\n9  is odd number\n10  is even number\n",
                    "name": "stdout"
                }
            ]
        },
        {
            "metadata": {},
            "cell_type": "markdown",
            "source": "Applying Horizontal rule\n\n---\n\n* Applying Bulleted List\n* Python\n* R\n* SQL\n* Scala\n* Panda\n* Numpy\n\n\nCreating Table Employee\n\n| Emploee Id | Employye Name | Employee Role |\n|---------|---------|---------|\n| 101 | Jhon | Manager |\n| 102 | Peter | Consultant |\n| 103 | Alex | Data Analyst |\n\n\nCreating blocked quotes\n> This course is great for learning.\n"
        }
    ],
    "metadata": {
        "kernelspec": {
            "name": "python3",
            "display_name": "Python 3.7",
            "language": "python"
        },
        "language_info": {
            "name": "python",
            "version": "3.7.11",
            "mimetype": "text/x-python",
            "codemirror_mode": {
                "name": "ipython",
                "version": 3
            },
            "pygments_lexer": "ipython3",
            "nbconvert_exporter": "python",
            "file_extension": ".py"
        }
    },
    "nbformat": 4,
    "nbformat_minor": 1
}